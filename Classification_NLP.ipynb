{
 "cells": [
  {
   "cell_type": "code",
   "execution_count": null,
   "metadata": {
    "colab": {
     "base_uri": "https://localhost:8080/",
     "height": 122
    },
    "colab_type": "code",
    "id": "8Ryj2_yHhuHW",
    "outputId": "d1426c87-0332-40f4-cacf-3774c1e2b669"
   },
   "outputs": [
    {
     "name": "stderr",
     "output_type": "stream",
     "text": [
      "/usr/local/lib/python3.6/dist-packages/nltk/twitter/__init__.py:20: UserWarning: The twython library has not been installed. Some functionality from the twitter package will not be available.\n",
      "  warnings.warn(\"The twython library has not been installed. \"\n"
     ]
    },
    {
     "name": "stdout",
     "output_type": "stream",
     "text": [
      "[nltk_data] Downloading package punkt to /root/nltk_data...\n",
      "[nltk_data]   Unzipping tokenizers/punkt.zip.\n",
      "[nltk_data] Downloading package vader_lexicon to /root/nltk_data...\n"
     ]
    }
   ],
   "source": [
    "#Utilities\n",
    "from tqdm import tqdm\n",
    "tqdm.pandas()\n",
    "\n",
    "#Download resources\n",
    "import numpy as np\n",
    "import pandas as pd\n",
    "import matplotlib.pyplot as plt\n",
    "\n",
    "# NLP\n",
    "from nltk import sent_tokenize, word_tokenize, RegexpParser\n",
    "from nltk.sentiment.vader import SentimentIntensityAnalyzer\n",
    "from nltk.sentiment.util import mark_negation\n",
    "\n",
    "import nltk\n",
    "\n",
    "nltk.download(\"punkt\")\n",
    "nltk.download(\"vader_lexicon\")\n",
    "\n",
    "PATH = \"/content/drive/My Drive/Classroom/RADS 611/\""
   ]
  },
  {
   "cell_type": "code",
   "execution_count": null,
   "metadata": {
    "colab": {},
    "colab_type": "code",
    "id": "y_I9X9Gg0VMr"
   },
   "outputs": [],
   "source": [
    "df = pd.read_csv(PATH+\"honest_doc_full.csv\")"
   ]
  },
  {
   "cell_type": "markdown",
   "metadata": {
    "colab_type": "text",
    "id": "LFOu-0CAfSvE"
   },
   "source": [
    "Visualize"
   ]
  },
  {
   "cell_type": "code",
   "execution_count": null,
   "metadata": {
    "colab": {
     "base_uri": "https://localhost:8080/",
     "height": 279
    },
    "colab_type": "code",
    "id": "3lzSPMhyhjPH",
    "outputId": "15b90a57-6524-4685-afa7-58925e2665f2"
   },
   "outputs": [
    {
     "data": {
      "image/png": "[encoded data removed]",
      "text/plain": [
       "<Figure size 432x288 with 1 Axes>"
      ]
     },
     "metadata": {
      "needs_background": "light",
      "tags": []
     },
     "output_type": "display_data"
    }
   ],
   "source": [
    "Sentiment_count=df.groupby('score').count()\n",
    "plt.bar(Sentiment_count.index.values, Sentiment_count['comment'])\n",
    "plt.xlabel('Review Sentiments')\n",
    "plt.ylabel('Number of Review')\n",
    "plt.show()"
   ]
  },
  {
   "cell_type": "markdown",
   "metadata": {},
   "source": [
    "## Cleaning the text"
   ]
  },
  {
   "cell_type": "code",
   "execution_count": null,
   "metadata": {
    "colab": {},
    "colab_type": "code",
    "id": "kI9ruHuIHI1B"
   },
   "outputs": [],
   "source": [
    "import re\n",
    "import string\n",
    "\n",
    "def clean_text_round1(text):\n",
    "    '''Make text lowercase, remove text in square brackets, remove punctuation and remove words containing numbers.'''\n",
    "    text = text.lower()\n",
    "    text = re.sub('\\[.*?\\]', '', text)\n",
    "    text = re.sub('[%s]' % re.escape(string.punctuation), '', text)\n",
    "    text = re.sub('\\w*\\d\\w*', '', text)\n",
    "    return text\n",
    "\n",
    "round1 = lambda x: clean_text_round1(x)"
   ]
  },
  {
   "cell_type": "code",
   "execution_count": null,
   "metadata": {
    "colab": {
     "base_uri": "https://localhost:8080/",
     "height": 419
    },
    "colab_type": "code",
    "id": "3x-vYX2XHX3P",
    "outputId": "6a10554e-c4cc-4835-e5e4-9143e1bea0d7"
   },
   "outputs": [
    {
     "data": {
      "text/html": [
       "<div>\n",
       "<style scoped>\n",
       "    .dataframe tbody tr th:only-of-type {\n",
       "        vertical-align: middle;\n",
       "    }\n",
       "\n",
       "    .dataframe tbody tr th {\n",
       "        vertical-align: top;\n",
       "    }\n",
       "\n",
       "    .dataframe thead th {\n",
       "        text-align: right;\n",
       "    }\n",
       "</style>\n",
       "<table border=\"1\" class=\"dataframe\">\n",
       "  <thead>\n",
       "    <tr style=\"text-align: right;\">\n",
       "      <th></th>\n",
       "      <th>en</th>\n",
       "    </tr>\n",
       "  </thead>\n",
       "  <tbody>\n",
       "    <tr>\n",
       "      <th>0</th>\n",
       "      <td>overall it is considered good great service nu...</td>\n",
       "    </tr>\n",
       "    <tr>\n",
       "      <th>1</th>\n",
       "      <td>looks very good fast action the cost is reason...</td>\n",
       "    </tr>\n",
       "    <tr>\n",
       "      <th>2</th>\n",
       "      <td>been to this hospital many times can be both ...</td>\n",
       "    </tr>\n",
       "    <tr>\n",
       "      <th>3</th>\n",
       "      <td>intends to give birth naturally and buy a natu...</td>\n",
       "    </tr>\n",
       "    <tr>\n",
       "      <th>4</th>\n",
       "      <td>taking good care since walking into the door t...</td>\n",
       "    </tr>\n",
       "    <tr>\n",
       "      <th>...</th>\n",
       "      <td>...</td>\n",
       "    </tr>\n",
       "    <tr>\n",
       "      <th>8936</th>\n",
       "      <td>fast very clean the nurses are friendly better...</td>\n",
       "    </tr>\n",
       "    <tr>\n",
       "      <th>8937</th>\n",
       "      <td>good service polite words arrange things quick...</td>\n",
       "    </tr>\n",
       "    <tr>\n",
       "      <th>8938</th>\n",
       "      <td>arrange things quickly go to wait in line wait...</td>\n",
       "    </tr>\n",
       "    <tr>\n",
       "      <th>8939</th>\n",
       "      <td>the doctor took very good care the hospital is...</td>\n",
       "    </tr>\n",
       "    <tr>\n",
       "      <th>8940</th>\n",
       "      <td>the doctor took very good care the hospital is...</td>\n",
       "    </tr>\n",
       "  </tbody>\n",
       "</table>\n",
       "<p>8941 rows × 1 columns</p>\n",
       "</div>"
      ],
      "text/plain": [
       "                                                     en\n",
       "0     overall it is considered good great service nu...\n",
       "1     looks very good fast action the cost is reason...\n",
       "2      been to this hospital many times can be both ...\n",
       "3     intends to give birth naturally and buy a natu...\n",
       "4     taking good care since walking into the door t...\n",
       "...                                                 ...\n",
       "8936  fast very clean the nurses are friendly better...\n",
       "8937  good service polite words arrange things quick...\n",
       "8938  arrange things quickly go to wait in line wait...\n",
       "8939  the doctor took very good care the hospital is...\n",
       "8940  the doctor took very good care the hospital is...\n",
       "\n",
       "[8941 rows x 1 columns]"
      ]
     },
     "execution_count": 77,
     "metadata": {
      "tags": []
     },
     "output_type": "execute_result"
    }
   ],
   "source": [
    "data_clean = pd.DataFrame(df.en.apply(round1))\n",
    "data_clean"
   ]
  },
  {
   "cell_type": "code",
   "execution_count": null,
   "metadata": {
    "colab": {},
    "colab_type": "code",
    "id": "dxRygnb5HX8N"
   },
   "outputs": [],
   "source": [
    "#Using SpaCy to clean Stop Words and use Lemmatization\n",
    "import spacy \n",
    "nlp = spacy.load('en_core_web_sm')\n",
    "from spacy.lang.en.stop_words import STOP_WORDS\n",
    "import string\n",
    "punct = string.punctuation\n",
    "def clean_text_round2(text):\n",
    "  cleaned_token = []\n",
    "  doc = nlp(text)\n",
    "  \n",
    "  for word in doc:\n",
    "    if word.lemma_ not in STOP_WORDS and word.lemma_ not in punct:\n",
    "      cleaned_token.append(word.lemma_)\n",
    "  return cleaned_token\n",
    "\n",
    "round2 = lambda x: clean_text_round2(x)"
   ]
  },
  {
   "cell_type": "code",
   "execution_count": null,
   "metadata": {
    "colab": {
     "base_uri": "https://localhost:8080/",
     "height": 51
    },
    "colab_type": "code",
    "id": "oA8_c712gi8X",
    "outputId": "4bda53cf-8644-4c13-fb51-240e05c92139"
   },
   "outputs": [
    {
     "name": "stderr",
     "output_type": "stream",
     "text": [
      "100%|██████████| 8941/8941 [02:07<00:00, 69.97it/s]\n",
      "100%|██████████| 8941/8941 [00:00<00:00, 493996.79it/s]\n"
     ]
    }
   ],
   "source": [
    "data_clean = pd.DataFrame(data_clean.en.progress_apply(round2))\n",
    "data_clean = pd.DataFrame(data_clean.en.progress_apply(lambda x:' '.join(x)))\n",
    "data_clean['score'] = df.score\n",
    "data_clean['hospital'] = df.hospital"
   ]
  },
  {
   "cell_type": "code",
   "execution_count": null,
   "metadata": {
    "colab": {
     "base_uri": "https://localhost:8080/",
     "height": 204
    },
    "colab_type": "code",
    "id": "49Po5i8WkWto",
    "outputId": "a93400e3-c79e-4f1e-f71f-e4ba3325fcfb"
   },
   "outputs": [
    {
     "data": {
      "text/html": [
       "<div>\n",
       "<style scoped>\n",
       "    .dataframe tbody tr th:only-of-type {\n",
       "        vertical-align: middle;\n",
       "    }\n",
       "\n",
       "    .dataframe tbody tr th {\n",
       "        vertical-align: top;\n",
       "    }\n",
       "\n",
       "    .dataframe thead th {\n",
       "        text-align: right;\n",
       "    }\n",
       "</style>\n",
       "<table border=\"1\" class=\"dataframe\">\n",
       "  <thead>\n",
       "    <tr style=\"text-align: right;\">\n",
       "      <th></th>\n",
       "      <th>en</th>\n",
       "      <th>score</th>\n",
       "      <th>hospital</th>\n",
       "    </tr>\n",
       "  </thead>\n",
       "  <tbody>\n",
       "    <tr>\n",
       "      <th>8936</th>\n",
       "      <td>fast clean nurse friendly crinkle hospital spe...</td>\n",
       "      <td>5</td>\n",
       "      <td>โรงพยาบาลสหวิทยาการมะลิ</td>\n",
       "    </tr>\n",
       "    <tr>\n",
       "      <th>8937</th>\n",
       "      <td>good service polite word arrange thing quickly...</td>\n",
       "      <td>5</td>\n",
       "      <td>โรงพยาบาลสหวิทยาการมะลิ</td>\n",
       "    </tr>\n",
       "    <tr>\n",
       "      <th>8938</th>\n",
       "      <td>arrange thing quickly wait line wait minute ne...</td>\n",
       "      <td>4</td>\n",
       "      <td>โรงพยาบาลสหวิทยาการมะลิ</td>\n",
       "    </tr>\n",
       "    <tr>\n",
       "      <th>8939</th>\n",
       "      <td>doctor good care hospital clean atmosphere sha...</td>\n",
       "      <td>4</td>\n",
       "      <td>โรงพยาบาลสหวิทยาการมะลิ</td>\n",
       "    </tr>\n",
       "    <tr>\n",
       "      <th>8940</th>\n",
       "      <td>doctor good care hospital clean atmosphere sha...</td>\n",
       "      <td>5</td>\n",
       "      <td>โรงพยาบาลสหวิทยาการมะลิ</td>\n",
       "    </tr>\n",
       "  </tbody>\n",
       "</table>\n",
       "</div>"
      ],
      "text/plain": [
       "                                                     en  ...                 hospital\n",
       "8936  fast clean nurse friendly crinkle hospital spe...  ...  โรงพยาบาลสหวิทยาการมะลิ\n",
       "8937  good service polite word arrange thing quickly...  ...  โรงพยาบาลสหวิทยาการมะลิ\n",
       "8938  arrange thing quickly wait line wait minute ne...  ...  โรงพยาบาลสหวิทยาการมะลิ\n",
       "8939  doctor good care hospital clean atmosphere sha...  ...  โรงพยาบาลสหวิทยาการมะลิ\n",
       "8940  doctor good care hospital clean atmosphere sha...  ...  โรงพยาบาลสหวิทยาการมะลิ\n",
       "\n",
       "[5 rows x 3 columns]"
      ]
     },
     "execution_count": 81,
     "metadata": {
      "tags": []
     },
     "output_type": "execute_result"
    }
   ],
   "source": [
    "data_clean.tail()"
   ]
  },
  {
   "cell_type": "code",
   "execution_count": null,
   "metadata": {
    "colab": {},
    "colab_type": "code",
    "id": "ihsoEh-6g45i"
   },
   "outputs": [],
   "source": [
    "#Save to feather file\n",
    "data_clean.reset_index().to_feather(PATH+'data_clean.feather')"
   ]
  },
  {
   "cell_type": "code",
   "execution_count": null,
   "metadata": {
    "colab": {},
    "colab_type": "code",
    "id": "G8S-RJDtuflr"
   },
   "outputs": [],
   "source": [
    "df = pd.read_feather(PATH+'data_clean.feather', columns=['en','score','hospital'])"
   ]
  },
  {
   "cell_type": "markdown",
   "metadata": {
    "colab_type": "text",
    "id": "qou3T5pqMxrs"
   },
   "source": [
    "## TF-IDF and Classification"
   ]
  },
  {
   "cell_type": "code",
   "execution_count": null,
   "metadata": {
    "colab": {},
    "colab_type": "code",
    "id": "UD4rzmfhJ7fT"
   },
   "outputs": [],
   "source": [
    "from sklearn.feature_extraction.text import TfidfVectorizer , CountVectorizer\n",
    "from sklearn.model_selection import train_test_split, cross_validate, cross_val_score\n",
    "from sklearn.metrics import accuracy_score, confusion_matrix, classification_report\n",
    "from sklearn.naive_bayes import MultinomialNB,BernoulliNB\n",
    "from sklearn.linear_model import LogisticRegression,SGDClassifier\n",
    "from sklearn.svm import SVC, LinearSVC, NuSVC\n",
    "from sklearn.ensemble import RandomForestClassifier\n",
    "from sklearn.pipeline import Pipeline\n",
    "from sklearn.model_selection import GridSearchCV"
   ]
  },
  {
   "cell_type": "code",
   "execution_count": null,
   "metadata": {
    "colab": {},
    "colab_type": "code",
    "id": "ZRiUghoT0XEM"
   },
   "outputs": [],
   "source": [
    "#Select only score 1,2 as bad, score 4,5 as good\n",
    "df = df.loc[df.score != 3]\n",
    "df['sent'] = 0\n",
    "df.loc[df.score.isin([4,5]),['sent']]=1"
   ]
  },
  {
   "cell_type": "code",
   "execution_count": null,
   "metadata": {
    "colab": {
     "base_uri": "https://localhost:8080/",
     "height": 34
    },
    "colab_type": "code",
    "id": "4dGoLTVwwELo",
    "outputId": "1199e475-dc87-4075-d226-520bee267ef2"
   },
   "outputs": [
    {
     "data": {
      "text/plain": [
       "8032"
      ]
     },
     "execution_count": 44,
     "metadata": {
      "tags": []
     },
     "output_type": "execute_result"
    }
   ],
   "source": [
    "len(df)"
   ]
  },
  {
   "cell_type": "code",
   "execution_count": null,
   "metadata": {
    "colab": {},
    "colab_type": "code",
    "id": "bYtgwwHDuuDe"
   },
   "outputs": [],
   "source": [
    "df_train = df.loc[~df.hospital.isin(['โรงพยาบาลตากสิน','โรงพยาบาลรามาธิบดี','โรงพยาบาลพญาไท 2'])]"
   ]
  },
  {
   "cell_type": "code",
   "execution_count": null,
   "metadata": {
    "colab": {
     "base_uri": "https://localhost:8080/",
     "height": 34
    },
    "colab_type": "code",
    "id": "5xl4tHcxwg5z",
    "outputId": "2c723667-af5d-4f5a-982e-42b032f072b5"
   },
   "outputs": [
    {
     "data": {
      "text/plain": [
       "7688"
      ]
     },
     "execution_count": 97,
     "metadata": {
      "tags": []
     },
     "output_type": "execute_result"
    }
   ],
   "source": [
    "len(df_train)"
   ]
  },
  {
   "cell_type": "code",
   "execution_count": null,
   "metadata": {
    "colab": {},
    "colab_type": "code",
    "id": "8Qyw2CfBwmWb"
   },
   "outputs": [],
   "source": [
    "df_test = df.loc[df.hospital.isin(['โรงพยาบาลตากสิน','โรงพยาบาลรามาธิบดี','โรงพยาบาลพญาไท 2'])]"
   ]
  },
  {
   "cell_type": "code",
   "execution_count": null,
   "metadata": {
    "colab": {
     "base_uri": "https://localhost:8080/",
     "height": 34
    },
    "colab_type": "code",
    "id": "IJwpSaNdwqfD",
    "outputId": "eeb7daac-ff55-45a7-8e3b-3961a27f13c3"
   },
   "outputs": [
    {
     "data": {
      "text/plain": [
       "344"
      ]
     },
     "execution_count": 99,
     "metadata": {
      "tags": []
     },
     "output_type": "execute_result"
    }
   ],
   "source": [
    "len(df_test)"
   ]
  },
  {
   "cell_type": "code",
   "execution_count": null,
   "metadata": {
    "colab": {},
    "colab_type": "code",
    "id": "ddYg1zMEJ7av"
   },
   "outputs": [],
   "source": [
    "X = df_train.en.tolist()\n",
    "y = df_train['sent']"
   ]
  },
  {
   "cell_type": "code",
   "execution_count": null,
   "metadata": {
    "colab": {},
    "colab_type": "code",
    "id": "0tz87ubzzIGM"
   },
   "outputs": [],
   "source": [
    "def select_model(model):\n",
    "  for i in model:    \n",
    "    clf = Pipeline([\n",
    "      ('tfidf', TfidfVectorizer(tokenizer=None , stop_words=None,ngram_range=(1,1), use_idf=True)),\n",
    "      ('clf', i)])\n",
    "    score = cross_val_score(clf,X,y,cv=10)\n",
    "    print(f'\\n Model {str(i)} got accuracy {score.mean()}')"
   ]
  },
  {
   "cell_type": "code",
   "execution_count": null,
   "metadata": {
    "colab": {},
    "colab_type": "code",
    "id": "mRyVy_bj1uKK"
   },
   "outputs": [],
   "source": [
    "#If split train and validation set\n",
    "'''\n",
    "X = df_train.en.tolist()\n",
    "y = df_train['sent']\n",
    "X_train, X_test, y_train, y_test = train_test_split(X, y, test_size=0.2, random_state=42)\n",
    "def select_model(model):\n",
    "  for i in model:    \n",
    "    clf = Pipeline([\n",
    "      ('tfidf', TfidfVectorizer(tokenizer=None , stop_words=None,ngram_range=(1,1), use_idf=True)),\n",
    "      ('clf', i)])\n",
    "    clf.fit(X_train,y_train)\n",
    "    y_pred = clf.predict(X_test)\n",
    "    #print(classification_report(y_test, y_pred))\n",
    "    print(f'\\n Model {str(i)} got accuracy {accuracy_score(y_test,y_pred)}')\n",
    "'''"
   ]
  },
  {
   "cell_type": "code",
   "execution_count": null,
   "metadata": {
    "colab": {},
    "colab_type": "code",
    "id": "qN5G27QJvDGm"
   },
   "outputs": [],
   "source": [
    "model = [MultinomialNB(),BernoulliNB(),LogisticRegression(),SGDClassifier(),LinearSVC(),SVC(),RandomForestClassifier()]"
   ]
  },
  {
   "cell_type": "code",
   "execution_count": null,
   "metadata": {
    "colab": {
     "base_uri": "https://localhost:8080/",
     "height": 629
    },
    "colab_type": "code",
    "id": "DHk5looZv-m0",
    "outputId": "b9dae511-69f4-480c-f93d-c9aa8d3f79d4"
   },
   "outputs": [
    {
     "name": "stdout",
     "output_type": "stream",
     "text": [
      "\n",
      " Model MultinomialNB(alpha=1.0, class_prior=None, fit_prior=True) got accuracy 0.8242703930970958\n",
      "\n",
      " Model BernoulliNB(alpha=1.0, binarize=0.0, class_prior=None, fit_prior=True) got accuracy 0.8363718099804942\n",
      "\n",
      " Model LogisticRegression(C=1.0, class_weight=None, dual=False, fit_intercept=True,\n",
      "                   intercept_scaling=1, l1_ratio=None, max_iter=100,\n",
      "                   multi_class='auto', n_jobs=None, penalty='l2',\n",
      "                   random_state=None, solver='lbfgs', tol=0.0001, verbose=0,\n",
      "                   warm_start=False) got accuracy 0.8811165745557\n",
      "\n",
      " Model SGDClassifier(alpha=0.0001, average=False, class_weight=None,\n",
      "              early_stopping=False, epsilon=0.1, eta0=0.0, fit_intercept=True,\n",
      "              l1_ratio=0.15, learning_rate='optimal', loss='hinge',\n",
      "              max_iter=1000, n_iter_no_change=5, n_jobs=None, penalty='l2',\n",
      "              power_t=0.5, random_state=None, shuffle=True, tol=0.001,\n",
      "              validation_fraction=0.1, verbose=0, warm_start=False) got accuracy 0.8825471730060684\n",
      "\n",
      " Model LinearSVC(C=1.0, class_weight=None, dual=True, fit_intercept=True,\n",
      "          intercept_scaling=1, loss='squared_hinge', max_iter=1000,\n",
      "          multi_class='ovr', penalty='l2', random_state=None, tol=0.0001,\n",
      "          verbose=0) got accuracy 0.8753929955028175\n",
      "\n",
      " Model SVC(C=1.0, break_ties=False, cache_size=200, class_weight=None, coef0=0.0,\n",
      "    decision_function_shape='ovr', degree=3, gamma='scale', kernel='rbf',\n",
      "    max_iter=-1, probability=False, random_state=None, shrinking=True,\n",
      "    tol=0.001, verbose=False) got accuracy 0.8842373415149545\n",
      "\n",
      " Model RandomForestClassifier(bootstrap=True, ccp_alpha=0.0, class_weight=None,\n",
      "                       criterion='gini', max_depth=None, max_features='auto',\n",
      "                       max_leaf_nodes=None, max_samples=None,\n",
      "                       min_impurity_decrease=0.0, min_impurity_split=None,\n",
      "                       min_samples_leaf=1, min_samples_split=2,\n",
      "                       min_weight_fraction_leaf=0.0, n_estimators=100,\n",
      "                       n_jobs=None, oob_score=False, random_state=None,\n",
      "                       verbose=0, warm_start=False) got accuracy 0.8707102365084525\n"
     ]
    }
   ],
   "source": [
    "select_model(model)"
   ]
  },
  {
   "cell_type": "markdown",
   "metadata": {},
   "source": [
    "### SVM, SGD, Linear Regression gave the highest accuracy"
   ]
  },
  {
   "cell_type": "markdown",
   "metadata": {
    "colab_type": "text",
    "id": "_c53bZnUC5rA"
   },
   "source": [
    "# SVC"
   ]
  },
  {
   "cell_type": "code",
   "execution_count": null,
   "metadata": {
    "colab": {},
    "colab_type": "code",
    "id": "8CzU8a5Hi64Q"
   },
   "outputs": [],
   "source": [
    "X_train, X_test, y_train, y_test = train_test_split(X, y, test_size=0.2, random_state=42)\n",
    "clf_svc = Pipeline([\n",
    "      ('tfidf', TfidfVectorizer()),\n",
    "      ('clf', SVC(verbose=2))\n",
    "])\n",
    "parameters = {'tfidf__ngram_range': [(1, 1), (1, 2)],\n",
    "              'tfidf__use_idf': (True, False),\n",
    "              'clf__C': (10,1,0.1)}\n",
    "gs_clf = GridSearchCV(clf_svc, parameters, cv=5, n_jobs=-1)\n"
   ]
  },
  {
   "cell_type": "code",
   "execution_count": null,
   "metadata": {
    "colab": {
     "base_uri": "https://localhost:8080/",
     "height": 561
    },
    "colab_type": "code",
    "id": "N1OwYmIX6ZuG",
    "outputId": "5d89bbec-f2e4-4990-e742-646c614666b5"
   },
   "outputs": [
    {
     "name": "stdout",
     "output_type": "stream",
     "text": [
      "[LibSVM]"
     ]
    },
    {
     "data": {
      "text/plain": [
       "GridSearchCV(cv=5, error_score=nan,\n",
       "             estimator=Pipeline(memory=None,\n",
       "                                steps=[('tfidf',\n",
       "                                        TfidfVectorizer(analyzer='word',\n",
       "                                                        binary=False,\n",
       "                                                        decode_error='strict',\n",
       "                                                        dtype=<class 'numpy.float64'>,\n",
       "                                                        encoding='utf-8',\n",
       "                                                        input='content',\n",
       "                                                        lowercase=True,\n",
       "                                                        max_df=1.0,\n",
       "                                                        max_features=None,\n",
       "                                                        min_df=1,\n",
       "                                                        ngram_range=(1, 1),\n",
       "                                                        norm='l2',\n",
       "                                                        preprocessor=None,\n",
       "                                                        smooth_idf=True,\n",
       "                                                        stop_words=None,\n",
       "                                                        strip_acc...\n",
       "                                            decision_function_shape='ovr',\n",
       "                                            degree=3, gamma='scale',\n",
       "                                            kernel='rbf', max_iter=-1,\n",
       "                                            probability=False,\n",
       "                                            random_state=None, shrinking=True,\n",
       "                                            tol=0.001, verbose=2))],\n",
       "                                verbose=False),\n",
       "             iid='deprecated', n_jobs=-1,\n",
       "             param_grid={'clf__C': (10, 1, 0.1),\n",
       "                         'tfidf__ngram_range': [(1, 1), (1, 2)],\n",
       "                         'tfidf__use_idf': (True, False)},\n",
       "             pre_dispatch='2*n_jobs', refit=True, return_train_score=False,\n",
       "             scoring=None, verbose=0)"
      ]
     },
     "execution_count": 111,
     "metadata": {
      "tags": []
     },
     "output_type": "execute_result"
    }
   ],
   "source": [
    "gs_clf.fit(X_train,y_train)\n"
   ]
  },
  {
   "cell_type": "code",
   "execution_count": null,
   "metadata": {
    "colab": {
     "base_uri": "https://localhost:8080/",
     "height": 136
    },
    "colab_type": "code",
    "id": "ITiMGVcb7kiJ",
    "outputId": "a08f89ed-c347-476c-8493-5864e5225390"
   },
   "outputs": [
    {
     "name": "stdout",
     "output_type": "stream",
     "text": [
      "Accuracy: 0.8855656697009102\n",
      "Best parameters: \n",
      " clf__C: 10\n",
      "Best parameters: \n",
      " tfidf__ngram_range: (1, 2)\n",
      "Best parameters: \n",
      " tfidf__use_idf: True\n"
     ]
    }
   ],
   "source": [
    "y_pred = gs_clf.predict(X_test)\n",
    "print(f'Accuracy: {accuracy_score(y_test, y_pred)}')\n",
    "for param_name in sorted(parameters.keys()):\n",
    "  print(\"Best parameters: \\n %s: %r\" % (param_name, gs_clf.best_params_[param_name]))\n",
    "  "
   ]
  },
  {
   "cell_type": "code",
   "execution_count": null,
   "metadata": {
    "colab": {
     "base_uri": "https://localhost:8080/",
     "height": 34
    },
    "colab_type": "code",
    "id": "fFfpJXAM8FEX",
    "outputId": "b0df4f85-c6b3-4985-cda4-c9dd53296bbf"
   },
   "outputs": [
    {
     "name": "stdout",
     "output_type": "stream",
     "text": [
      "[LibSVM]"
     ]
    },
    {
     "data": {
      "text/plain": [
       "0.8895348837209303"
      ]
     },
     "execution_count": 117,
     "metadata": {
      "tags": []
     },
     "output_type": "execute_result"
    }
   ],
   "source": [
    "#Retrain with all values and best parameters\n",
    "clf_svc = Pipeline([\n",
    "      ('tfidf', TfidfVectorizer(ngram_range=(1,2),use_idf=True)),\n",
    "      ('clf', SVC(C=10, verbose=1))\n",
    "])\n",
    "clf_svc.fit(X,y)\n",
    "y_pred = clf_svc.predict(df_test.en.tolist())\n",
    "accuracy_score(df_test.sent,y_pred)"
   ]
  },
  {
   "cell_type": "code",
   "execution_count": null,
   "metadata": {
    "colab": {
     "base_uri": "https://localhost:8080/",
     "height": 170
    },
    "colab_type": "code",
    "id": "2oQ8XlyH9gDd",
    "outputId": "c58dd01a-8c80-4da1-9cc3-b64f4fc7608a"
   },
   "outputs": [
    {
     "name": "stdout",
     "output_type": "stream",
     "text": [
      "              precision    recall  f1-score   support\n",
      "\n",
      "           0       0.78      0.81      0.79        90\n",
      "           1       0.93      0.92      0.92       254\n",
      "\n",
      "    accuracy                           0.89       344\n",
      "   macro avg       0.85      0.86      0.86       344\n",
      "weighted avg       0.89      0.89      0.89       344\n",
      "\n"
     ]
    }
   ],
   "source": [
    "print(classification_report(df_test.sent,y_pred))"
   ]
  },
  {
   "cell_type": "markdown",
   "metadata": {
    "colab_type": "text",
    "id": "ZoYYHCxBC2KI"
   },
   "source": [
    "# SGD"
   ]
  },
  {
   "cell_type": "code",
   "execution_count": null,
   "metadata": {
    "colab": {},
    "colab_type": "code",
    "id": "LrosaEb2B1Cv"
   },
   "outputs": [],
   "source": [
    "clf_sgd = Pipeline([\n",
    "      ('tfidf', TfidfVectorizer()),\n",
    "      ('clf', SGDClassifier(verbose=1,n_jobs=-1))\n",
    "])\n",
    "parameters = {'tfidf__ngram_range': [(1, 1), (1, 2), (1,3)],\n",
    "              'tfidf__use_idf': [True, False],\n",
    "              'clf__alpha': [1e-3,1e-4,1e-5],\n",
    "              'clf__penalty':['none','l2','l1']}\n",
    "gs_clf = GridSearchCV(clf_sgd, parameters, cv=5, n_jobs=-1)"
   ]
  },
  {
   "cell_type": "code",
   "execution_count": null,
   "metadata": {
    "colab": {
     "base_uri": "https://localhost:8080/",
     "height": 1000
    },
    "colab_type": "code",
    "id": "8b8GxrTfC_ks",
    "outputId": "27175dfd-b4d9-420f-84a8-b81193e3e31c"
   },
   "outputs": [
    {
     "name": "stdout",
     "output_type": "stream",
     "text": [
      "-- Epoch 1\n",
      "Norm: 61.75, NNZs: 102996, Bias: 0.528727, T: 6150, Avg. loss: 0.364419\n",
      "Total training time: 0.01 seconds.\n",
      "-- Epoch 2\n",
      "Norm: 62.94, NNZs: 105708, Bias: 0.440157, T: 12300, Avg. loss: 0.193964\n",
      "Total training time: 0.01 seconds.\n",
      "-- Epoch 3\n",
      "Norm: 63.62, NNZs: 107240, Bias: 0.413923, T: 18450, Avg. loss: 0.164654\n",
      "Total training time: 0.02 seconds.\n",
      "-- Epoch 4\n",
      "Norm: 64.10, NNZs: 107731, Bias: 0.389094, T: 24600, Avg. loss: 0.148800\n",
      "Total training time: 0.03 seconds.\n",
      "-- Epoch 5\n",
      "Norm: 64.47, NNZs: 107979, Bias: 0.382576, T: 30750, Avg. loss: 0.138260\n",
      "Total training time: 0.03 seconds.\n",
      "-- Epoch 6\n",
      "Norm: 64.76, NNZs: 108176, Bias: 0.374978, T: 36900, Avg. loss: 0.130539\n",
      "Total training time: 0.04 seconds.\n",
      "-- Epoch 7\n",
      "Norm: 65.00, NNZs: 108538, Bias: 0.364575, T: 43050, Avg. loss: 0.124583\n",
      "Total training time: 0.05 seconds.\n",
      "-- Epoch 8\n",
      "Norm: 65.21, NNZs: 108875, Bias: 0.358748, T: 49200, Avg. loss: 0.119725\n",
      "Total training time: 0.05 seconds.\n",
      "-- Epoch 9\n",
      "Norm: 65.39, NNZs: 109033, Bias: 0.350465, T: 55350, Avg. loss: 0.115667\n",
      "Total training time: 0.06 seconds.\n",
      "-- Epoch 10\n",
      "Norm: 65.56, NNZs: 109262, Bias: 0.343359, T: 61500, Avg. loss: 0.112164\n",
      "Total training time: 0.07 seconds.\n",
      "-- Epoch 11\n",
      "Norm: 65.71, NNZs: 109591, Bias: 0.343897, T: 67650, Avg. loss: 0.109163\n",
      "Total training time: 0.07 seconds.\n",
      "-- Epoch 12\n",
      "Norm: 65.84, NNZs: 109766, Bias: 0.339839, T: 73800, Avg. loss: 0.106445\n",
      "Total training time: 0.08 seconds.\n",
      "-- Epoch 13\n",
      "Norm: 65.96, NNZs: 110110, Bias: 0.334057, T: 79950, Avg. loss: 0.104031\n",
      "Total training time: 0.09 seconds.\n",
      "-- Epoch 14\n",
      "Norm: 66.07, NNZs: 110268, Bias: 0.330727, T: 86100, Avg. loss: 0.101846\n",
      "Total training time: 0.09 seconds.\n",
      "-- Epoch 15\n",
      "Norm: 66.18, NNZs: 110374, Bias: 0.329064, T: 92250, Avg. loss: 0.099868\n",
      "Total training time: 0.10 seconds.\n",
      "-- Epoch 16\n",
      "Norm: 66.28, NNZs: 110455, Bias: 0.325133, T: 98400, Avg. loss: 0.098029\n",
      "Total training time: 0.10 seconds.\n",
      "-- Epoch 17\n",
      "Norm: 66.37, NNZs: 110627, Bias: 0.324551, T: 104550, Avg. loss: 0.096354\n",
      "Total training time: 0.11 seconds.\n",
      "-- Epoch 18\n",
      "Norm: 66.46, NNZs: 110764, Bias: 0.322197, T: 110700, Avg. loss: 0.094806\n",
      "Total training time: 0.12 seconds.\n",
      "-- Epoch 19\n",
      "Norm: 66.54, NNZs: 110921, Bias: 0.319902, T: 116850, Avg. loss: 0.093350\n",
      "Total training time: 0.12 seconds.\n",
      "-- Epoch 20\n",
      "Norm: 66.61, NNZs: 110945, Bias: 0.319426, T: 123000, Avg. loss: 0.091996\n",
      "Total training time: 0.13 seconds.\n",
      "-- Epoch 21\n",
      "Norm: 66.69, NNZs: 111003, Bias: 0.315601, T: 129150, Avg. loss: 0.090719\n",
      "Total training time: 0.13 seconds.\n",
      "-- Epoch 22\n",
      "Norm: 66.76, NNZs: 111090, Bias: 0.314762, T: 135300, Avg. loss: 0.089523\n",
      "Total training time: 0.13 seconds.\n",
      "-- Epoch 23\n",
      "Norm: 66.83, NNZs: 111215, Bias: 0.312506, T: 141450, Avg. loss: 0.088383\n",
      "Total training time: 0.14 seconds.\n",
      "-- Epoch 24\n",
      "Norm: 66.89, NNZs: 111517, Bias: 0.311050, T: 147600, Avg. loss: 0.087324\n",
      "Total training time: 0.14 seconds.\n",
      "-- Epoch 25\n",
      "Norm: 66.95, NNZs: 111568, Bias: 0.310616, T: 153750, Avg. loss: 0.086322\n",
      "Total training time: 0.15 seconds.\n",
      "-- Epoch 26\n",
      "Norm: 67.00, NNZs: 111597, Bias: 0.307918, T: 159900, Avg. loss: 0.085375\n",
      "Total training time: 0.15 seconds.\n",
      "-- Epoch 27\n",
      "Norm: 67.06, NNZs: 111629, Bias: 0.307239, T: 166050, Avg. loss: 0.084481\n",
      "Total training time: 0.15 seconds.\n",
      "-- Epoch 28\n",
      "Norm: 67.11, NNZs: 111700, Bias: 0.305690, T: 172200, Avg. loss: 0.083622\n",
      "Total training time: 0.16 seconds.\n",
      "-- Epoch 29\n",
      "Norm: 67.16, NNZs: 111758, Bias: 0.305103, T: 178350, Avg. loss: 0.082814\n",
      "Total training time: 0.16 seconds.\n",
      "-- Epoch 30\n",
      "Norm: 67.21, NNZs: 111829, Bias: 0.303335, T: 184500, Avg. loss: 0.082026\n",
      "Total training time: 0.17 seconds.\n",
      "Convergence after 30 epochs took 0.17 seconds\n"
     ]
    },
    {
     "data": {
      "text/plain": [
       "GridSearchCV(cv=5, error_score=nan,\n",
       "             estimator=Pipeline(memory=None,\n",
       "                                steps=[('tfidf',\n",
       "                                        TfidfVectorizer(analyzer='word',\n",
       "                                                        binary=False,\n",
       "                                                        decode_error='strict',\n",
       "                                                        dtype=<class 'numpy.float64'>,\n",
       "                                                        encoding='utf-8',\n",
       "                                                        input='content',\n",
       "                                                        lowercase=True,\n",
       "                                                        max_df=1.0,\n",
       "                                                        max_features=None,\n",
       "                                                        min_df=1,\n",
       "                                                        ngram_range=(1, 1),\n",
       "                                                        norm='l2',\n",
       "                                                        preprocessor=None,\n",
       "                                                        smooth_idf=True,\n",
       "                                                        stop_words=None,\n",
       "                                                        strip_acc...\n",
       "                                                      shuffle=True, tol=0.001,\n",
       "                                                      validation_fraction=0.1,\n",
       "                                                      verbose=1,\n",
       "                                                      warm_start=False))],\n",
       "                                verbose=False),\n",
       "             iid='deprecated', n_jobs=-1,\n",
       "             param_grid={'clf__alpha': [0.001, 0.0001, 1e-05],\n",
       "                         'clf__penalty': ['none', 'l2', 'l1'],\n",
       "                         'tfidf__ngram_range': [(1, 1), (1, 2), (1, 3)],\n",
       "                         'tfidf__use_idf': [True, False]},\n",
       "             pre_dispatch='2*n_jobs', refit=True, return_train_score=False,\n",
       "             scoring=None, verbose=0)"
      ]
     },
     "execution_count": 120,
     "metadata": {
      "tags": []
     },
     "output_type": "execute_result"
    }
   ],
   "source": [
    "gs_clf.fit(X_train,y_train)"
   ]
  },
  {
   "cell_type": "code",
   "execution_count": null,
   "metadata": {
    "colab": {
     "base_uri": "https://localhost:8080/",
     "height": 170
    },
    "colab_type": "code",
    "id": "fzat1mifDCfE",
    "outputId": "ad1e67fd-f2e0-4755-c8c0-1bf6b257f52e"
   },
   "outputs": [
    {
     "name": "stdout",
     "output_type": "stream",
     "text": [
      "Accuracy: 0.88296488946684\n",
      "Best parameters: \n",
      " clf__alpha: 0.001\n",
      "Best parameters: \n",
      " clf__penalty: 'none'\n",
      "Best parameters: \n",
      " tfidf__ngram_range: (1, 3)\n",
      "Best parameters: \n",
      " tfidf__use_idf: True\n"
     ]
    }
   ],
   "source": [
    "y_pred = gs_clf.predict(X_test)\n",
    "print(f'Accuracy: {accuracy_score(y_test, y_pred)}')\n",
    "for param_name in sorted(parameters.keys()):\n",
    "  print(\"Best parameters: \\n %s: %r\" % (param_name, gs_clf.best_params_[param_name]))"
   ]
  },
  {
   "cell_type": "code",
   "execution_count": null,
   "metadata": {
    "colab": {
     "base_uri": "https://localhost:8080/",
     "height": 1000
    },
    "colab_type": "code",
    "id": "wjsKEuck-xcU",
    "outputId": "34c22cbd-d1d6-40ba-ff85-b9a5e133a1e1"
   },
   "outputs": [
    {
     "name": "stdout",
     "output_type": "stream",
     "text": [
      "-- Epoch 1\n",
      "Norm: 65.72, NNZs: 123664, Bias: 0.474445, T: 7688, Avg. loss: 0.358538\n",
      "Total training time: 0.01 seconds.\n",
      "-- Epoch 2\n",
      "Norm: 66.72, NNZs: 126645, Bias: 0.402285, T: 15376, Avg. loss: 0.210984\n",
      "Total training time: 0.02 seconds.\n",
      "-- Epoch 3\n",
      "Norm: 67.29, NNZs: 127395, Bias: 0.384775, T: 23064, Avg. loss: 0.185228\n",
      "Total training time: 0.02 seconds.\n",
      "-- Epoch 4\n",
      "Norm: 67.70, NNZs: 127751, Bias: 0.362812, T: 30752, Avg. loss: 0.171311\n",
      "Total training time: 0.03 seconds.\n",
      "-- Epoch 5\n",
      "Norm: 68.01, NNZs: 128385, Bias: 0.355119, T: 38440, Avg. loss: 0.161947\n",
      "Total training time: 0.04 seconds.\n",
      "-- Epoch 6\n",
      "Norm: 68.27, NNZs: 128758, Bias: 0.337596, T: 46128, Avg. loss: 0.154977\n",
      "Total training time: 0.05 seconds.\n",
      "-- Epoch 7\n",
      "Norm: 68.49, NNZs: 129042, Bias: 0.342113, T: 53816, Avg. loss: 0.149597\n",
      "Total training time: 0.05 seconds.\n",
      "-- Epoch 8\n",
      "Norm: 68.67, NNZs: 129181, Bias: 0.329224, T: 61504, Avg. loss: 0.145088\n",
      "Total training time: 0.06 seconds.\n",
      "-- Epoch 9\n",
      "Norm: 68.84, NNZs: 129466, Bias: 0.328257, T: 69192, Avg. loss: 0.141364\n",
      "Total training time: 0.07 seconds.\n",
      "-- Epoch 10\n",
      "Norm: 68.99, NNZs: 129713, Bias: 0.325091, T: 76880, Avg. loss: 0.138052\n",
      "Total training time: 0.08 seconds.\n",
      "-- Epoch 11\n",
      "Norm: 69.12, NNZs: 129792, Bias: 0.321989, T: 84568, Avg. loss: 0.135195\n",
      "Total training time: 0.09 seconds.\n",
      "-- Epoch 12\n",
      "Norm: 69.24, NNZs: 130007, Bias: 0.318736, T: 92256, Avg. loss: 0.132650\n",
      "Total training time: 0.09 seconds.\n",
      "-- Epoch 13\n",
      "Norm: 69.35, NNZs: 130083, Bias: 0.317092, T: 99944, Avg. loss: 0.130374\n",
      "Total training time: 0.10 seconds.\n",
      "-- Epoch 14\n",
      "Norm: 69.45, NNZs: 130113, Bias: 0.314139, T: 107632, Avg. loss: 0.128325\n",
      "Total training time: 0.11 seconds.\n",
      "-- Epoch 15\n",
      "Norm: 69.54, NNZs: 130113, Bias: 0.312461, T: 115320, Avg. loss: 0.126450\n",
      "Total training time: 0.12 seconds.\n",
      "-- Epoch 16\n",
      "Norm: 69.63, NNZs: 130161, Bias: 0.309320, T: 123008, Avg. loss: 0.124730\n",
      "Total training time: 0.12 seconds.\n",
      "-- Epoch 17\n",
      "Norm: 69.71, NNZs: 130162, Bias: 0.306752, T: 130696, Avg. loss: 0.123142\n",
      "Total training time: 0.13 seconds.\n",
      "-- Epoch 18\n",
      "Norm: 69.79, NNZs: 130236, Bias: 0.305958, T: 138384, Avg. loss: 0.121677\n",
      "Total training time: 0.13 seconds.\n",
      "-- Epoch 19\n",
      "Norm: 69.86, NNZs: 130370, Bias: 0.307057, T: 146072, Avg. loss: 0.120298\n",
      "Total training time: 0.14 seconds.\n",
      "-- Epoch 20\n",
      "Norm: 69.93, NNZs: 130534, Bias: 0.303724, T: 153760, Avg. loss: 0.119025\n",
      "Total training time: 0.14 seconds.\n",
      "-- Epoch 21\n",
      "Norm: 70.00, NNZs: 130534, Bias: 0.302674, T: 161448, Avg. loss: 0.117806\n",
      "Total training time: 0.15 seconds.\n",
      "-- Epoch 22\n",
      "Norm: 70.06, NNZs: 130603, Bias: 0.300064, T: 169136, Avg. loss: 0.116668\n",
      "Total training time: 0.15 seconds.\n",
      "-- Epoch 23\n",
      "Norm: 70.12, NNZs: 130654, Bias: 0.299704, T: 176824, Avg. loss: 0.115587\n",
      "Total training time: 0.16 seconds.\n",
      "-- Epoch 24\n",
      "Norm: 70.17, NNZs: 130727, Bias: 0.298246, T: 184512, Avg. loss: 0.114553\n",
      "Total training time: 0.16 seconds.\n",
      "-- Epoch 25\n",
      "Norm: 70.23, NNZs: 130790, Bias: 0.296444, T: 192200, Avg. loss: 0.113579\n",
      "Total training time: 0.17 seconds.\n",
      "-- Epoch 26\n",
      "Norm: 70.28, NNZs: 130844, Bias: 0.295491, T: 199888, Avg. loss: 0.112643\n",
      "Total training time: 0.17 seconds.\n",
      "-- Epoch 27\n",
      "Norm: 70.33, NNZs: 130863, Bias: 0.294946, T: 207576, Avg. loss: 0.111758\n",
      "Total training time: 0.18 seconds.\n",
      "-- Epoch 28\n",
      "Norm: 70.38, NNZs: 131023, Bias: 0.293336, T: 215264, Avg. loss: 0.110918\n",
      "Total training time: 0.18 seconds.\n",
      "-- Epoch 29\n",
      "Norm: 70.43, NNZs: 131032, Bias: 0.293594, T: 222952, Avg. loss: 0.110107\n",
      "Total training time: 0.19 seconds.\n",
      "Convergence after 29 epochs took 0.19 seconds\n"
     ]
    },
    {
     "data": {
      "text/plain": [
       "0.8808139534883721"
      ]
     },
     "execution_count": 122,
     "metadata": {
      "tags": []
     },
     "output_type": "execute_result"
    }
   ],
   "source": [
    "#Retrain with all values and best parameters\n",
    "clf_sgd = Pipeline([\n",
    "      ('tfidf', TfidfVectorizer(ngram_range=(1,3),use_idf=True)),\n",
    "      ('clf', SGDClassifier(alpha=0.001, penalty='none',verbose=1,n_jobs=-1))\n",
    "])\n",
    "clf_sgd.fit(X,y)\n",
    "y_pred = clf_sgd.predict(df_test.en.tolist())\n",
    "accuracy_score(df_test.sent,y_pred)"
   ]
  },
  {
   "cell_type": "code",
   "execution_count": null,
   "metadata": {
    "colab": {
     "base_uri": "https://localhost:8080/",
     "height": 170
    },
    "colab_type": "code",
    "id": "c-7fzxOd_Jki",
    "outputId": "51995bc2-bff0-40be-c682-59b7bffb9e66"
   },
   "outputs": [
    {
     "name": "stdout",
     "output_type": "stream",
     "text": [
      "              precision    recall  f1-score   support\n",
      "\n",
      "           0       0.74      0.83      0.79        90\n",
      "           1       0.94      0.90      0.92       254\n",
      "\n",
      "    accuracy                           0.88       344\n",
      "   macro avg       0.84      0.87      0.85       344\n",
      "weighted avg       0.89      0.88      0.88       344\n",
      "\n"
     ]
    }
   ],
   "source": [
    "print(classification_report(df_test.sent,y_pred))"
   ]
  },
  {
   "cell_type": "markdown",
   "metadata": {
    "colab_type": "text",
    "id": "SnSMs7dQHMP-"
   },
   "source": [
    "# Logistic Regression"
   ]
  },
  {
   "cell_type": "code",
   "execution_count": null,
   "metadata": {
    "colab": {},
    "colab_type": "code",
    "id": "vl0cn9G9HORy"
   },
   "outputs": [],
   "source": [
    "clf_lgr = Pipeline([\n",
    "      ('tfidf', TfidfVectorizer()),\n",
    "      ('clf', LogisticRegression(verbose=1,n_jobs=-1))\n",
    "])\n",
    "parameters = {'tfidf__ngram_range': [(1, 1), (1, 2), (1,3)],\n",
    "              'tfidf__use_idf': [True, False],\n",
    "              'clf__C': [10,1,0.1,0.001],\n",
    "              'clf__penalty':['none','l2','l1']}\n",
    "gs_clf = GridSearchCV(clf_lgr, parameters, cv=5, n_jobs=-1)"
   ]
  },
  {
   "cell_type": "code",
   "execution_count": null,
   "metadata": {
    "colab": {
     "base_uri": "https://localhost:8080/",
     "height": 612
    },
    "colab_type": "code",
    "id": "RdG8MpE5Hiw3",
    "outputId": "73ca07a1-6bf7-4aee-c16f-4dd297bf0040"
   },
   "outputs": [
    {
     "name": "stderr",
     "output_type": "stream",
     "text": [
      "[Parallel(n_jobs=-1)]: Using backend LokyBackend with 2 concurrent workers.\n",
      "[Parallel(n_jobs=-1)]: Done   1 out of   1 | elapsed:    2.9s finished\n"
     ]
    },
    {
     "data": {
      "text/plain": [
       "GridSearchCV(cv=5, error_score=nan,\n",
       "             estimator=Pipeline(memory=None,\n",
       "                                steps=[('tfidf',\n",
       "                                        TfidfVectorizer(analyzer='word',\n",
       "                                                        binary=False,\n",
       "                                                        decode_error='strict',\n",
       "                                                        dtype=<class 'numpy.float64'>,\n",
       "                                                        encoding='utf-8',\n",
       "                                                        input='content',\n",
       "                                                        lowercase=True,\n",
       "                                                        max_df=1.0,\n",
       "                                                        max_features=None,\n",
       "                                                        min_df=1,\n",
       "                                                        ngram_range=(1, 1),\n",
       "                                                        norm='l2',\n",
       "                                                        preprocessor=None,\n",
       "                                                        smooth_idf=True,\n",
       "                                                        stop_words=None,\n",
       "                                                        strip_acc...\n",
       "                                                           penalty='l2',\n",
       "                                                           random_state=None,\n",
       "                                                           solver='lbfgs',\n",
       "                                                           tol=0.0001,\n",
       "                                                           verbose=1,\n",
       "                                                           warm_start=False))],\n",
       "                                verbose=False),\n",
       "             iid='deprecated', n_jobs=-1,\n",
       "             param_grid={'clf__C': [10, 1, 0.1, 0.001],\n",
       "                         'clf__penalty': ['none', 'l2', 'l1'],\n",
       "                         'tfidf__ngram_range': [(1, 1), (1, 2), (1, 3)],\n",
       "                         'tfidf__use_idf': [True, False]},\n",
       "             pre_dispatch='2*n_jobs', refit=True, return_train_score=False,\n",
       "             scoring=None, verbose=0)"
      ]
     },
     "execution_count": 125,
     "metadata": {
      "tags": []
     },
     "output_type": "execute_result"
    }
   ],
   "source": [
    "gs_clf.fit(X_train,y_train)"
   ]
  },
  {
   "cell_type": "code",
   "execution_count": null,
   "metadata": {
    "colab": {
     "base_uri": "https://localhost:8080/",
     "height": 170
    },
    "colab_type": "code",
    "id": "STC0ed2lHl2A",
    "outputId": "c4efca70-8322-4112-a058-708e3c88717e"
   },
   "outputs": [
    {
     "name": "stdout",
     "output_type": "stream",
     "text": [
      "Accuracy: 0.888816644993498\n",
      "Best parameters: \n",
      " clf__C: 10\n",
      "Best parameters: \n",
      " clf__penalty: 'l2'\n",
      "Best parameters: \n",
      " tfidf__ngram_range: (1, 3)\n",
      "Best parameters: \n",
      " tfidf__use_idf: True\n"
     ]
    }
   ],
   "source": [
    "y_pred = gs_clf.predict(X_test)\n",
    "print(f'Accuracy: {accuracy_score(y_test, y_pred)}')\n",
    "for param_name in sorted(parameters.keys()):\n",
    "  print(\"Best parameters: \\n %s: %r\" % (param_name, gs_clf.best_params_[param_name]))"
   ]
  },
  {
   "cell_type": "code",
   "execution_count": null,
   "metadata": {
    "colab": {
     "base_uri": "https://localhost:8080/",
     "height": 68
    },
    "colab_type": "code",
    "id": "xk4uQG3-rCiA",
    "outputId": "0c50ead0-a6ff-47f3-bc60-33f728476c96"
   },
   "outputs": [
    {
     "name": "stderr",
     "output_type": "stream",
     "text": [
      "[Parallel(n_jobs=-1)]: Using backend LokyBackend with 2 concurrent workers.\n",
      "[Parallel(n_jobs=-1)]: Done   1 out of   1 | elapsed:    3.7s finished\n"
     ]
    },
    {
     "data": {
      "text/plain": [
       "0.8924418604651163"
      ]
     },
     "execution_count": 127,
     "metadata": {
      "tags": []
     },
     "output_type": "execute_result"
    }
   ],
   "source": [
    "#Retrain with all values and best parameters\n",
    "clf_lgr = Pipeline([\n",
    "      ('tfidf', TfidfVectorizer(ngram_range=(1,3),use_idf=True)),\n",
    "      ('clf', LogisticRegression(C=10 , penalty='l2' ,verbose=1,n_jobs=-1))\n",
    "])\n",
    "clf_lgr.fit(X,y)\n",
    "y_pred = clf_lgr.predict(df_test.en.tolist())\n",
    "accuracy_score(df_test.sent,y_pred)"
   ]
  },
  {
   "cell_type": "code",
   "execution_count": null,
   "metadata": {
    "colab": {
     "base_uri": "https://localhost:8080/",
     "height": 170
    },
    "colab_type": "code",
    "id": "i0Tmwl7pCwTW",
    "outputId": "3a2fc09e-2c33-4fd6-a9bc-c8c348f313c0"
   },
   "outputs": [
    {
     "name": "stdout",
     "output_type": "stream",
     "text": [
      "              precision    recall  f1-score   support\n",
      "\n",
      "           0       0.78      0.81      0.80        90\n",
      "           1       0.93      0.92      0.93       254\n",
      "\n",
      "    accuracy                           0.89       344\n",
      "   macro avg       0.86      0.87      0.86       344\n",
      "weighted avg       0.89      0.89      0.89       344\n",
      "\n"
     ]
    }
   ],
   "source": [
    "print(classification_report(df_test.sent,y_pred))"
   ]
  },
  {
   "cell_type": "markdown",
   "metadata": {
    "colab_type": "text",
    "id": "RuVK0ovHDQYO"
   },
   "source": [
    "#### Logistic Regression and SVM gave comparable result in term of accuracy and F1 score of negative class"
   ]
  },
  {
   "cell_type": "markdown",
   "metadata": {
    "colab_type": "text",
    "id": "_L5h32NbsXGo"
   },
   "source": [
    "# Sentences Level polarity"
   ]
  },
  {
   "cell_type": "code",
   "execution_count": null,
   "metadata": {
    "colab": {},
    "colab_type": "code",
    "id": "x2db28q2B9tB"
   },
   "outputs": [],
   "source": [
    "df = pd.read_feather(PATH+'data_clean.feather', columns=['en','score','hospital'])"
   ]
  },
  {
   "cell_type": "code",
   "execution_count": null,
   "metadata": {
    "colab": {},
    "colab_type": "code",
    "id": "ErZSxRNIop-G"
   },
   "outputs": [],
   "source": [
    "#Select only score 1,2 as bad, score 4,5 as good\n",
    "df = df.loc[df.score != 3]\n",
    "df['sent'] = 0\n",
    "df.loc[df.score.isin([4,5]),['sent']]=1"
   ]
  },
  {
   "cell_type": "code",
   "execution_count": null,
   "metadata": {
    "colab": {},
    "colab_type": "code",
    "id": "t7-MqjSqmPJ8"
   },
   "outputs": [],
   "source": [
    "def comment_polarity(df):\n",
    "  sa = SentimentIntensityAnalyzer()\n",
    "  polar = []\n",
    "  for i in df.index:\n",
    "    total_score = 0\n",
    "    for sentence in sent_tokenize(df.loc[i, 'en']):\n",
    "      sentiment_distribution = sa.polarity_scores(sentence)\n",
    "      score = sentiment_distribution.get(\"compound\")\n",
    "      total_score += score\n",
    "    if total_score >=0:\n",
    "      polar.append(1)\n",
    "    else:\n",
    "      polar.append(0)\n",
    "  return polar"
   ]
  },
  {
   "cell_type": "code",
   "execution_count": null,
   "metadata": {
    "colab": {},
    "colab_type": "code",
    "id": "VtnUDR1BhuM-"
   },
   "outputs": [],
   "source": [
    "polar = comment_polarity(df)"
   ]
  },
  {
   "cell_type": "code",
   "execution_count": null,
   "metadata": {
    "colab": {
     "base_uri": "https://localhost:8080/",
     "height": 34
    },
    "colab_type": "code",
    "id": "vhCWZUREpvL_",
    "outputId": "131acb92-1d3f-4d65-b9f7-30970974b4b7"
   },
   "outputs": [
    {
     "data": {
      "text/plain": [
       "0.8292682926829268"
      ]
     },
     "execution_count": 34,
     "metadata": {
      "tags": []
     },
     "output_type": "execute_result"
    }
   ],
   "source": [
    "accuracy_score(df.sent,polar)"
   ]
  },
  {
   "cell_type": "markdown",
   "metadata": {
    "colab_type": "text",
    "id": "JE-4wh14rH8m"
   },
   "source": [
    "TF-IDF method gave a better accuracy score compare to sentence polarity"
   ]
  }
 ],
 "metadata": {
  "colab": {
   "collapsed_sections": [],
   "name": "Classification NLP.ipynb",
   "provenance": []
  },
  "kernelspec": {
   "display_name": "Python 3",
   "language": "python",
   "name": "python3"
  },
  "language_info": {
   "codemirror_mode": {
    "name": "ipython",
    "version": 3
   },
   "file_extension": ".py",
   "mimetype": "text/x-python",
   "name": "python",
   "nbconvert_exporter": "python",
   "pygments_lexer": "ipython3",
   "version": "3.7.7"
  }
 },
 "nbformat": 4,
 "nbformat_minor": 4
}
